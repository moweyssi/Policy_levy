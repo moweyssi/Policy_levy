{
 "cells": [
  {
   "cell_type": "markdown",
   "metadata": {},
   "source": [
    "## Standing Charge Price Cap"
   ]
  },
  {
   "cell_type": "code",
   "execution_count": 2,
   "metadata": {},
   "outputs": [],
   "source": [
    "#https://www.ofgem.gov.uk/energy-price-cap\n",
    "ele_pricecap_day_GBP = 0.6099\n",
    "gas_pricecap_day_GBP = 0.3166\n",
    "StandingCharge_ele_yr_GBP = ele_pricecap_day_GBP * 365\n",
    "StandingCharge_gas_yr_GBP = gas_pricecap_day_GBP * 365\n",
    "kWh_price_ele_GBP = 0.2450 #including VAT\n",
    "kWh_price_gas_GBP = 0.0604 #including VAT"
   ]
  },
  {
   "cell_type": "markdown",
   "metadata": {},
   "source": [
    "## Levy yearly amounts"
   ]
  },
  {
   "cell_type": "code",
   "execution_count": 18,
   "metadata": {},
   "outputs": [],
   "source": [
    "#https://eciu.net/insights/2024/are-green-levies-going-up-in-april-2024\n",
    "\n",
    "PriceCapBill_ele_GBP = 839\n",
    "PriceCapBill_gas_GBP = 771\n",
    "PriceCapBill_ele_VATincl_GBP = 881\n",
    "PriceCapBill_gas_VATincl_GBP = 809\n",
    "\n",
    "#Renewable Obligation\n",
    "RO_ele_GBP = 86\n",
    "RO_gas_GBP = 0\n",
    "#Feed-in-Tariff\n",
    "FIT_ele_GBP = 21\n",
    "FIT_gas_GBP = 0\n",
    "#Energy Company Obligation\n",
    "ECO_ele_GBP = 23\n",
    "ECO_gas_GBP = 34\n",
    "#Warm Homes Discount\n",
    "WHD_ele_GBP = 11\n",
    "WHD_gas_GBP = 11\n",
    "#AAHEDC (GB Average)\n",
    "AAHEDC_ele_GBP = 1\n",
    "AAHEDC_gas_GBP = 0\n",
    "#Green Gas Levy\n",
    "GGL_ele_GBP = 0\n",
    "GGL_gas_GBP = 0.4\n",
    "#VAT on levies\n",
    "VAT_ele_GBP = 7\n",
    "VAT_gas_GBP = 2\n",
    "\n",
    "yearly_levy_ele_GBP = RO_ele_GBP + FIT_ele_GBP + ECO_ele_GBP + WHD_ele_GBP + AAHEDC_ele_GBP + GGL_ele_GBP\n",
    "yearly_levy_gas_GBP = RO_gas_GBP + FIT_gas_GBP + ECO_gas_GBP + WHD_gas_GBP + AAHEDC_gas_GBP + GGL_gas_GBP\n",
    "yearly_levy_dual_GBP = yearly_levy_ele_GBP + yearly_levy_gas_GBP"
   ]
  },
  {
   "cell_type": "markdown",
   "metadata": {},
   "source": [
    "## Levy unit rates\n",
    "#### Assuming levies except GGL are added onto the unit rate, not standing charge"
   ]
  },
  {
   "cell_type": "code",
   "execution_count": 17,
   "metadata": {},
   "outputs": [],
   "source": [
    "#Calculate yearly bill without SC\n",
    "YearlyBill_ele_exclSC_VATincl_GBP = PriceCapBill_ele_VATincl_GBP - StandingCharge_ele_yr_GBP\n",
    "YearlyBill_gas_exclSC_VATincl_GBP = PriceCapBill_gas_VATincl_GBP - StandingCharge_gas_yr_GBP\n",
    "\n",
    "#Calculate unit price per kWh used in https://eciu.net/insights/2024/are-green-levies-going-up-in-april-2024\n",
    "ele_levies_per_kWh = YearlyBill_ele_exclSC_VATincl_GBP/kWh_price_ele_GBP\n",
    "gas_levies_per_kWh = YearlyBill_gas_exclSC_VATincl_GBP/kWh_price_gas_GBP\n",
    "\n",
    "#Find levy as unit rate excluding VAT\n",
    "ele_levy_unit_rate_GBP_kWh = yearly_levy_ele_GBP/ele_levies_per_kWh\n",
    "gas_levy_unit_rate_GBP_kWh = yearly_levy_gas_GBP/gas_levies_per_kWh\n",
    "#Find levy as unit rate including VAT\n",
    "ele_levy_unit_rate_GBP_kWh_VATincl = ele_levy_unit_rate_GBP_kWh + VAT_ele_GBP/ele_levies_per_kWh\n",
    "gas_levy_unit_rate_GBP_kWh_VATincl = gas_levy_unit_rate_GBP_kWh + VAT_gas_GBP/gas_levies_per_kWh\n"
   ]
  },
  {
   "cell_type": "markdown",
   "metadata": {},
   "source": [
    "# EST Factors"
   ]
  },
  {
   "cell_type": "code",
   "execution_count": 36,
   "metadata": {},
   "outputs": [],
   "source": [
    "EST_ele_unit_price_GBP = 0.22360\n",
    "EST_E7_off_unit_price_GBP = 0.13047\n",
    "EST_E7_on_unit_price_GBP = 0.26687\n",
    "\n",
    "EST_gas_unit_price_GBP = 0.05480\n",
    "EST_ele_standing_charge_GBP_yr = 219.44\n",
    "EST_gas_standing_charge_GBP_yr = 114.65\n",
    "EST_Gas_Boiler_Eff = 0.778"
   ]
  },
  {
   "cell_type": "markdown",
   "metadata": {},
   "source": [
    "# Baseline scenario"
   ]
  },
  {
   "cell_type": "code",
   "execution_count": 103,
   "metadata": {},
   "outputs": [],
   "source": [
    "TypicalHomeUse_ele = 2700\n",
    "LowHomeUse_ele = 1800\n",
    "HighHomeUse_ele = 4100\n",
    "\n",
    "TypicalHomeUse_gas = 11500\n",
    "LowHomeUse_gas = 7500\n",
    "HighHomeUse_gas = 17000\n",
    "\n",
    "TypicalHeatDemand = TypicalHomeUse_gas*EST_Gas_Boiler_Eff\n",
    "LowHeatDemand     = LowHomeUse_gas*EST_Gas_Boiler_Eff\n",
    "HighHeatDemand    = HighHomeUse_gas*EST_Gas_Boiler_Eff\n",
    "\n",
    "def getBaselineBill(HomeUse_ele,HomeUse_gas,type=\"gas\",perc_offpeak=0.9,SPF=2):\n",
    "    HeatDemand     = HomeUse_gas*EST_Gas_Boiler_Eff\n",
    "    if type==\"gas\":\n",
    "        return HomeUse_ele*EST_ele_unit_price_GBP + EST_ele_standing_charge_GBP_yr + HomeUse_gas*EST_gas_unit_price_GBP + EST_gas_standing_charge_GBP_yr\n",
    "    if type==\"E7\":\n",
    "        return (HomeUse_ele + (1-perc_offpeak)*HeatDemand)*EST_E7_on_unit_price_GBP + perc_offpeak*HeatDemand*EST_E7_off_unit_price_GBP + EST_ele_standing_charge_GBP_yr\n",
    "    if type==\"heatpump\":\n",
    "        return (HomeUse_ele + HeatDemand/SPF)*EST_ele_unit_price_GBP + EST_ele_standing_charge_GBP_yr\n",
    "    if type==\"heatpump_gascook\":\n",
    "        return (HomeUse_ele + HeatDemand/SPF)*EST_ele_unit_price_GBP + EST_ele_standing_charge_GBP_yr + EST_gas_standing_charge_GBP_yr\n",
    "    else:\n",
    "        print(\"wrong type\")\n",
    "\n",
    "def BaselineHPswitch(HomeUse_ele,HomeUse_gas,SPF,beforetype=\"gas\",gasStandingCharge=False,perc_offpeak=0.9):\n",
    "    if beforetype==\"gas\":\n",
    "        gasboiler = getBaselineBill(HomeUse_ele,HomeUse_gas,type=beforetype)\n",
    "        if gasStandingCharge==True:\n",
    "            heatpump = getBaselineBill(HomeUse_ele,HomeUse_gas,type=\"heatpump_gascook\",SPF=SPF)\n",
    "            return gasboiler - heatpump\n",
    "        else:\n",
    "            heatpump = getBaselineBill(HomeUse_ele,HomeUse_gas,type=\"heatpump\",SPF=SPF)\n",
    "            return gasboiler - heatpump\n",
    "        \n",
    "    if beforetype==\"E7\":\n",
    "        storageheater = getBaselineBill(HomeUse_ele,HomeUse_gas,type=beforetype,perc_offpeak=perc_offpeak)\n",
    "        if gasStandingCharge==True:\n",
    "            heatpump = getBaselineBill(HomeUse_ele,HomeUse_gas,type=\"heatpump_gascook\",SPF=SPF)\n",
    "            return storageheater - heatpump\n",
    "        else:\n",
    "            heatpump = getBaselineBill(HomeUse_ele,HomeUse_gas,type=\"heatpump\",SPF=SPF)\n",
    "            return storageheater - heatpump\n",
    "    \n",
    "\n",
    "BaselineLowBill_gashome     = getBaselineBill(LowHomeUse_ele,LowHomeUse_gas,type=\"gas\")\n",
    "BaselineTypicalBill_gashome = getBaselineBill(TypicalHomeUse_ele,TypicalHomeUse_gas,type=\"gas\")\n",
    "BaselineHighBill_gashome    = getBaselineBill(HighHomeUse_ele,HighHomeUse_gas,type=\"gas\")\n",
    "\n",
    "#E7 no gas SC, X percent of heating is off peak\n",
    "off_peak_heating = 0.9\n",
    "BaselineLowBill_E7     = getBaselineBill(LowHomeUse_ele,LowHomeUse_gas,type=\"E7\",perc_offpeak=off_peak_heating)\n",
    "BaselineTypicalBill_E7 = getBaselineBill(TypicalHomeUse_ele,TypicalHomeUse_gas,type=\"E7\",perc_offpeak=off_peak_heating)\n",
    "BaselineHighBill_E7    = getBaselineBill(HighHomeUse_ele,HighHomeUse_gas,type=\"E7\",perc_offpeak=off_peak_heating)\n"
   ]
  },
  {
   "cell_type": "code",
   "execution_count": 105,
   "metadata": {},
   "outputs": [
    {
     "data": {
      "text/plain": [
       "-126.70299999999975"
      ]
     },
     "execution_count": 105,
     "metadata": {},
     "output_type": "execute_result"
    }
   ],
   "source": [
    "BaselineHPswitch(LowHomeUse_ele,LowHomeUse_gas,beforetype=\"gas\",gasStandingCharge=False,SPF=2)"
   ]
  },
  {
   "cell_type": "markdown",
   "metadata": {},
   "source": [
    "# 1. Move all levies completely off bills and onto general taxation"
   ]
  },
  {
   "cell_type": "code",
   "execution_count": 98,
   "metadata": {},
   "outputs": [],
   "source": [
    "NoLevy_ele_unit_price = EST_ele_unit_price_GBP-ele_levy_unit_rate_GBP_kWh_VATincl\n",
    "NoLevy_gas_unit_price = EST_gas_unit_price_GBP-gas_levy_unit_rate_GBP_kWh_VATincl\n",
    "\n",
    "NoLevy_E7_peak_price = EST_E7_on_unit_price_GBP - ele_levy_unit_rate_GBP_kWh_VATincl\n",
    "NoLevy_E7_off_price = EST_E7_off_unit_price_GBP - ele_levy_unit_rate_GBP_kWh_VATincl\n",
    "\n",
    "def getNoLevyBill(HomeUse_ele,HomeUse_gas,type=\"gas\",perc_offpeak=0.9,SPF=2):\n",
    "    HeatDemand     = HomeUse_gas*EST_Gas_Boiler_Eff\n",
    "    if type==\"gas\":\n",
    "        return HomeUse_ele*NoLevy_ele_unit_price + EST_ele_standing_charge_GBP_yr + HomeUse_gas*NoLevy_gas_unit_price + EST_gas_standing_charge_GBP_yr - 1.05*GGL_gas_GBP #1.05 to add VAT onto the GGL\n",
    "    if type==\"E7\":\n",
    "        return (HomeUse_ele + (1-perc_offpeak)*HeatDemand)*NoLevy_E7_peak_price + perc_offpeak*HeatDemand*NoLevy_E7_off_price + EST_ele_standing_charge_GBP_yr\n",
    "    if type==\"heatpump\":\n",
    "        return (HomeUse_ele + HeatDemand/SPF)*NoLevy_ele_unit_price + EST_ele_standing_charge_GBP_yr\n",
    "    if type==\"heatpump_gascook\":\n",
    "        return (HomeUse_ele + HeatDemand/SPF)*NoLevy_ele_unit_price + EST_ele_standing_charge_GBP_yr + EST_gas_standing_charge_GBP_yr - 1.05*GGL_gas_GBP #1.05 to add VAT onto the GGL\n",
    "    else:\n",
    "        print(\"wrong type\")\n",
    "\n",
    "def scenario1saving(HomeUse_ele,HomeUse_gas,type=\"gas\",perc_offpeak=0.9,SPF=2):\n",
    "    saving = getBaselineBill(HomeUse_ele,HomeUse_gas,type=type,perc_offpeak=perc_offpeak,SPF=SPF) - getNoLevyBill(HomeUse_ele,HomeUse_gas,type=type,perc_offpeak=perc_offpeak,SPF=SPF)\n",
    "    return saving\n",
    "def scenario1HPswitch(HomeUse_ele,HomeUse_gas,SPF,beforetype=\"gas\",gasStandingCharge=False,perc_offpeak=0.9):\n",
    "    if beforetype==\"gas\":\n",
    "        gasboiler = getNoLevyBill(HomeUse_ele,HomeUse_gas,type=beforetype)\n",
    "        if gasStandingCharge==True:\n",
    "            heatpump = getNoLevyBill(HomeUse_ele,HomeUse_gas,type=\"heatpump_gascook\",SPF=SPF)\n",
    "            return gasboiler - heatpump\n",
    "        else:\n",
    "            heatpump = getNoLevyBill(HomeUse_ele,HomeUse_gas,type=\"heatpump\",SPF=SPF)\n",
    "            return gasboiler - heatpump\n",
    "        \n",
    "    if beforetype==\"E7\":\n",
    "        storageheater = getNoLevyBill(HomeUse_ele,HomeUse_gas,type=beforetype,perc_offpeak=perc_offpeak)\n",
    "        if gasStandingCharge==True:\n",
    "            heatpump = getNoLevyBill(HomeUse_ele,HomeUse_gas,type=\"heatpump_gascook\",SPF=SPF)\n",
    "            return storageheater - heatpump\n",
    "        else:\n",
    "            heatpump = getNoLevyBill(HomeUse_ele,HomeUse_gas,type=\"heatpump\",SPF=SPF)\n",
    "            return storageheater - heatpump\n",
    "    "
   ]
  },
  {
   "cell_type": "markdown",
   "metadata": {},
   "source": [
    "## Now model heat pump depending on SPF"
   ]
  },
  {
   "cell_type": "code",
   "execution_count": 102,
   "metadata": {},
   "outputs": [
    {
     "data": {
      "text/plain": [
       "array([-9.21653731e+03, -5.96804363e+03, -4.33555188e+03, -3.35340237e+03,\n",
       "       -2.69752626e+03, -2.22849857e+03, -1.87642944e+03, -1.60242089e+03,\n",
       "       -1.38310244e+03, -1.20358622e+03, -1.05393858e+03, -9.27277562e+02,\n",
       "       -8.18684640e+02, -7.24551101e+02, -6.42169265e+02, -5.69467789e+02,\n",
       "       -5.04835106e+02, -4.46998564e+02, -3.94939780e+02, -3.47834162e+02,\n",
       "       -3.05006904e+02, -2.65900455e+02, -2.30050107e+02, -1.97065447e+02,\n",
       "       -1.66616079e+02, -1.38420516e+02, -1.12237456e+02, -8.78588533e+01,\n",
       "       -6.51043863e+01, -4.38169835e+01, -2.38591955e+01, -5.11022284e+00,\n",
       "        1.25365307e+01,  2.91754859e+01,  4.48905785e+01,  5.97566749e+01,\n",
       "        7.38407652e+01,  8.72029721e+01,  9.98974095e+01,  1.11972914e+02,\n",
       "        1.23473674e+02,  1.34439768e+02,  1.44907635e+02,  1.54910474e+02,\n",
       "        1.64478600e+02,  1.73639748e+02,  1.82419345e+02,  1.90840739e+02,\n",
       "        1.98925415e+02,  2.06693172e+02,  2.14162286e+02,  2.21349655e+02,\n",
       "        2.28270926e+02,  2.34940608e+02,  2.41372173e+02,  2.47578151e+02,\n",
       "        2.53570204e+02,  2.59359207e+02,  2.64955309e+02,  2.70367994e+02,\n",
       "        2.75606133e+02,  2.80678036e+02,  2.85591493e+02,  2.90353814e+02,\n",
       "        2.94971866e+02,  2.99452109e+02,  3.03800619e+02,  3.08023122e+02,\n",
       "        3.12125018e+02,  3.16111400e+02,  3.19987082e+02,  3.23756609e+02,\n",
       "        3.27424286e+02,  3.30994185e+02,  3.34470164e+02,  3.37855882e+02,\n",
       "        3.41154809e+02,  3.44370240e+02,  3.47505307e+02,  3.50562984e+02,\n",
       "        3.53546102e+02,  3.56457355e+02,  3.59299310e+02,  3.62074411e+02,\n",
       "        3.64784990e+02,  3.67433271e+02,  3.70021379e+02,  3.72551340e+02,\n",
       "        3.75025092e+02,  3.77444488e+02,  3.79811301e+02,  3.82127225e+02,\n",
       "        3.84393885e+02,  3.86612836e+02,  3.88785569e+02,  3.90913513e+02,\n",
       "        3.92998038e+02,  3.95040461e+02,  3.97042043e+02,  3.99003998e+02])"
      ]
     },
     "execution_count": 102,
     "metadata": {},
     "output_type": "execute_result"
    }
   ],
   "source": [
    "import numpy as np\n",
    "\n",
    "test = np.linspace(0.1,5,100)\n",
    "scenario1HPswitch(LowHomeUse_ele,LowHomeUse_gas,beforetype=\"E7\",gasStandingCharge=False,SPF=test)"
   ]
  }
 ],
 "metadata": {
  "kernelspec": {
   "display_name": "portable",
   "language": "python",
   "name": "python3"
  },
  "language_info": {
   "codemirror_mode": {
    "name": "ipython",
    "version": 3
   },
   "file_extension": ".py",
   "mimetype": "text/x-python",
   "name": "python",
   "nbconvert_exporter": "python",
   "pygments_lexer": "ipython3",
   "version": "3.10.14"
  }
 },
 "nbformat": 4,
 "nbformat_minor": 2
}
