{
 "cells": [
  {
   "cell_type": "markdown",
   "metadata": {},
   "source": [
    "## Standing Charge Price Cap"
   ]
  },
  {
   "cell_type": "code",
   "execution_count": 2,
   "metadata": {},
   "outputs": [],
   "source": [
    "#https://www.ofgem.gov.uk/energy-price-cap\n",
    "ele_pricecap_day_GBP = 0.6099\n",
    "gas_pricecap_day_GBP = 0.3166\n",
    "StandingCharge_ele_yr_GBP = ele_pricecap_day_GBP * 365\n",
    "StandingCharge_gas_yr_GBP = gas_pricecap_day_GBP * 365\n",
    "kWh_price_ele_GBP = 0.2450 #including VAT\n",
    "kWh_price_gas_GBP = 0.0604 #including VAT"
   ]
  },
  {
   "cell_type": "markdown",
   "metadata": {},
   "source": [
    "## Levy yearly amounts"
   ]
  },
  {
   "cell_type": "code",
   "execution_count": 18,
   "metadata": {},
   "outputs": [],
   "source": [
    "#https://eciu.net/insights/2024/are-green-levies-going-up-in-april-2024\n",
    "\n",
    "PriceCapBill_ele_GBP = 839\n",
    "PriceCapBill_gas_GBP = 771\n",
    "PriceCapBill_ele_VATincl_GBP = 881\n",
    "PriceCapBill_gas_VATincl_GBP = 809\n",
    "\n",
    "#Renewable Obligation\n",
    "RO_ele_GBP = 86\n",
    "RO_gas_GBP = 0\n",
    "#Feed-in-Tariff\n",
    "FIT_ele_GBP = 21\n",
    "FIT_gas_GBP = 0\n",
    "#Energy Company Obligation\n",
    "ECO_ele_GBP = 23\n",
    "ECO_gas_GBP = 34\n",
    "#Warm Homes Discount\n",
    "WHD_ele_GBP = 11\n",
    "WHD_gas_GBP = 11\n",
    "#AAHEDC (GB Average)\n",
    "AAHEDC_ele_GBP = 1\n",
    "AAHEDC_gas_GBP = 0\n",
    "#Green Gas Levy\n",
    "GGL_ele_GBP = 0\n",
    "GGL_gas_GBP = 0.4\n",
    "#VAT on levies\n",
    "VAT_ele_GBP = 7\n",
    "VAT_gas_GBP = 2\n",
    "\n",
    "yearly_levy_ele_GBP = RO_ele_GBP + FIT_ele_GBP + ECO_ele_GBP + WHD_ele_GBP + AAHEDC_ele_GBP + GGL_ele_GBP\n",
    "yearly_levy_gas_GBP = RO_gas_GBP + FIT_gas_GBP + ECO_gas_GBP + WHD_gas_GBP + AAHEDC_gas_GBP + GGL_gas_GBP\n",
    "yearly_levy_dual_GBP = yearly_levy_ele_GBP + yearly_levy_gas_GBP"
   ]
  },
  {
   "cell_type": "markdown",
   "metadata": {},
   "source": [
    "## Levy unit rates\n",
    "#### Assuming levies except GGL are added onto the unit rate, not standing charge"
   ]
  },
  {
   "cell_type": "code",
   "execution_count": 17,
   "metadata": {},
   "outputs": [],
   "source": [
    "#Calculate yearly bill without SC\n",
    "YearlyBill_ele_exclSC_VATincl_GBP = PriceCapBill_ele_VATincl_GBP - StandingCharge_ele_yr_GBP\n",
    "YearlyBill_gas_exclSC_VATincl_GBP = PriceCapBill_gas_VATincl_GBP - StandingCharge_gas_yr_GBP\n",
    "\n",
    "#Calculate unit price per kWh used in https://eciu.net/insights/2024/are-green-levies-going-up-in-april-2024\n",
    "ele_levies_per_kWh = YearlyBill_ele_exclSC_VATincl_GBP/kWh_price_ele_GBP\n",
    "gas_levies_per_kWh = YearlyBill_gas_exclSC_VATincl_GBP/kWh_price_gas_GBP\n",
    "\n",
    "#Find levy as unit rate excluding VAT\n",
    "ele_levy_unit_rate_GBP_kWh = yearly_levy_ele_GBP/ele_levies_per_kWh\n",
    "gas_levy_unit_rate_GBP_kWh = yearly_levy_gas_GBP/gas_levies_per_kWh\n",
    "#Find levy as unit rate including VAT\n",
    "ele_levy_unit_rate_GBP_kWh_VATincl = ele_levy_unit_rate_GBP_kWh + VAT_ele_GBP/ele_levies_per_kWh\n",
    "gas_levy_unit_rate_GBP_kWh_VATincl = gas_levy_unit_rate_GBP_kWh + VAT_gas_GBP/gas_levies_per_kWh\n"
   ]
  },
  {
   "cell_type": "markdown",
   "metadata": {},
   "source": [
    "# EST Factors"
   ]
  },
  {
   "cell_type": "code",
   "execution_count": 36,
   "metadata": {},
   "outputs": [],
   "source": [
    "EST_ele_unit_price_GBP = 0.22360\n",
    "EST_E7_off_unit_price_GBP = 0.13047\n",
    "EST_E7_on_unit_price_GBP = 0.26687\n",
    "\n",
    "EST_gas_unit_price_GBP = 0.05480\n",
    "EST_ele_standing_charge_GBP_yr = 219.44\n",
    "EST_gas_standing_charge_GBP_yr = 114.65\n",
    "EST_Gas_Boiler_Eff = 0.778"
   ]
  },
  {
   "cell_type": "markdown",
   "metadata": {},
   "source": [
    "# Baseline scenario"
   ]
  },
  {
   "cell_type": "code",
   "execution_count": 103,
   "metadata": {},
   "outputs": [],
   "source": [
    "TypicalHomeUse_ele = 2700\n",
    "LowHomeUse_ele = 1800\n",
    "HighHomeUse_ele = 4100\n",
    "\n",
    "TypicalHomeUse_gas = 11500\n",
    "LowHomeUse_gas = 7500\n",
    "HighHomeUse_gas = 17000\n",
    "\n",
    "TypicalHeatDemand = TypicalHomeUse_gas*EST_Gas_Boiler_Eff\n",
    "LowHeatDemand     = LowHomeUse_gas*EST_Gas_Boiler_Eff\n",
    "HighHeatDemand    = HighHomeUse_gas*EST_Gas_Boiler_Eff\n",
    "\n",
    "def getBaselineBill(HomeUse_ele,HomeUse_gas,type=\"gas\",perc_offpeak=0.9,SPF=2):\n",
    "    HeatDemand     = HomeUse_gas*EST_Gas_Boiler_Eff\n",
    "    if type==\"gas\":\n",
    "        return HomeUse_ele*EST_ele_unit_price_GBP + EST_ele_standing_charge_GBP_yr + HomeUse_gas*EST_gas_unit_price_GBP + EST_gas_standing_charge_GBP_yr\n",
    "    if type==\"E7\":\n",
    "        return (HomeUse_ele + (1-perc_offpeak)*HeatDemand)*EST_E7_on_unit_price_GBP + perc_offpeak*HeatDemand*EST_E7_off_unit_price_GBP + EST_ele_standing_charge_GBP_yr\n",
    "    if type==\"heatpump\":\n",
    "        return (HomeUse_ele + HeatDemand/SPF)*EST_ele_unit_price_GBP + EST_ele_standing_charge_GBP_yr\n",
    "    if type==\"heatpump_gascook\":\n",
    "        return (HomeUse_ele + HeatDemand/SPF)*EST_ele_unit_price_GBP + EST_ele_standing_charge_GBP_yr + EST_gas_standing_charge_GBP_yr\n",
    "    else:\n",
    "        print(\"wrong type\")\n",
    "\n",
    "def BaselineHPswitch(HomeUse_ele,HomeUse_gas,SPF,beforetype=\"gas\",gasStandingCharge=False,perc_offpeak=0.9):\n",
    "    if beforetype==\"gas\":\n",
    "        gasboiler = getBaselineBill(HomeUse_ele,HomeUse_gas,type=beforetype)\n",
    "        if gasStandingCharge==True:\n",
    "            heatpump = getBaselineBill(HomeUse_ele,HomeUse_gas,type=\"heatpump_gascook\",SPF=SPF)\n",
    "            return gasboiler - heatpump\n",
    "        else:\n",
    "            heatpump = getBaselineBill(HomeUse_ele,HomeUse_gas,type=\"heatpump\",SPF=SPF)\n",
    "            return gasboiler - heatpump\n",
    "        \n",
    "    if beforetype==\"E7\":\n",
    "        storageheater = getBaselineBill(HomeUse_ele,HomeUse_gas,type=beforetype,perc_offpeak=perc_offpeak)\n",
    "        if gasStandingCharge==True:\n",
    "            heatpump = getBaselineBill(HomeUse_ele,HomeUse_gas,type=\"heatpump_gascook\",SPF=SPF)\n",
    "            return storageheater - heatpump\n",
    "        else:\n",
    "            heatpump = getBaselineBill(HomeUse_ele,HomeUse_gas,type=\"heatpump\",SPF=SPF)\n",
    "            return storageheater - heatpump\n",
    "    \n",
    "\n",
    "BaselineLowBill_gashome     = getBaselineBill(LowHomeUse_ele,LowHomeUse_gas,type=\"gas\")\n",
    "BaselineTypicalBill_gashome = getBaselineBill(TypicalHomeUse_ele,TypicalHomeUse_gas,type=\"gas\")\n",
    "BaselineHighBill_gashome    = getBaselineBill(HighHomeUse_ele,HighHomeUse_gas,type=\"gas\")\n",
    "\n",
    "#E7 no gas SC, X percent of heating is off peak\n",
    "off_peak_heating = 0.9\n",
    "BaselineLowBill_E7     = getBaselineBill(LowHomeUse_ele,LowHomeUse_gas,type=\"E7\",perc_offpeak=off_peak_heating)\n",
    "BaselineTypicalBill_E7 = getBaselineBill(TypicalHomeUse_ele,TypicalHomeUse_gas,type=\"E7\",perc_offpeak=off_peak_heating)\n",
    "BaselineHighBill_E7    = getBaselineBill(HighHomeUse_ele,HighHomeUse_gas,type=\"E7\",perc_offpeak=off_peak_heating)\n"
   ]
  },
  {
   "cell_type": "code",
   "execution_count": 105,
   "metadata": {},
   "outputs": [
    {
     "data": {
      "text/plain": [
       "-126.70299999999975"
      ]
     },
     "execution_count": 105,
     "metadata": {},
     "output_type": "execute_result"
    }
   ],
   "source": [
    "BaselineHPswitch(LowHomeUse_ele,LowHomeUse_gas,beforetype=\"gas\",gasStandingCharge=False,SPF=2)"
   ]
  },
  {
   "cell_type": "markdown",
   "metadata": {},
   "source": [
    "# 1. Move all levies completely off bills and onto general taxation"
   ]
  },
  {
   "cell_type": "code",
   "execution_count": 98,
   "metadata": {},
   "outputs": [],
   "source": [
    "NoLevy_ele_unit_price = EST_ele_unit_price_GBP-ele_levy_unit_rate_GBP_kWh_VATincl\n",
    "NoLevy_gas_unit_price = EST_gas_unit_price_GBP-gas_levy_unit_rate_GBP_kWh_VATincl\n",
    "\n",
    "NoLevy_E7_peak_price = EST_E7_on_unit_price_GBP - ele_levy_unit_rate_GBP_kWh_VATincl\n",
    "NoLevy_E7_off_price = EST_E7_off_unit_price_GBP - ele_levy_unit_rate_GBP_kWh_VATincl\n",
    "\n",
    "def getNoLevyBill(HomeUse_ele,HomeUse_gas,type=\"gas\",perc_offpeak=0.9,SPF=2):\n",
    "    HeatDemand     = HomeUse_gas*EST_Gas_Boiler_Eff\n",
    "    if type==\"gas\":\n",
    "        return HomeUse_ele*NoLevy_ele_unit_price + EST_ele_standing_charge_GBP_yr + HomeUse_gas*NoLevy_gas_unit_price + EST_gas_standing_charge_GBP_yr - 1.05*GGL_gas_GBP #1.05 to add VAT onto the GGL\n",
    "    if type==\"E7\":\n",
    "        return (HomeUse_ele + (1-perc_offpeak)*HeatDemand)*NoLevy_E7_peak_price + perc_offpeak*HeatDemand*NoLevy_E7_off_price + EST_ele_standing_charge_GBP_yr\n",
    "    if type==\"heatpump\":\n",
    "        return (HomeUse_ele + HeatDemand/SPF)*NoLevy_ele_unit_price + EST_ele_standing_charge_GBP_yr\n",
    "    if type==\"heatpump_gascook\":\n",
    "        return (HomeUse_ele + HeatDemand/SPF)*NoLevy_ele_unit_price + EST_ele_standing_charge_GBP_yr + EST_gas_standing_charge_GBP_yr - 1.05*GGL_gas_GBP #1.05 to add VAT onto the GGL\n",
    "    else:\n",
    "        print(\"wrong type\")\n",
    "\n",
    "def scenario1saving(HomeUse_ele,HomeUse_gas,type=\"gas\",perc_offpeak=0.9,SPF=2):\n",
    "    saving = getBaselineBill(HomeUse_ele,HomeUse_gas,type=type,perc_offpeak=perc_offpeak,SPF=SPF) - getNoLevyBill(HomeUse_ele,HomeUse_gas,type=type,perc_offpeak=perc_offpeak,SPF=SPF)\n",
    "    return saving\n",
    "def scenario1HPswitch(HomeUse_ele,HomeUse_gas,SPF,beforetype=\"gas\",gasStandingCharge=False,perc_offpeak=0.9):\n",
    "    if beforetype==\"gas\":\n",
    "        gasboiler = getNoLevyBill(HomeUse_ele,HomeUse_gas,type=beforetype)\n",
    "        if gasStandingCharge==True:\n",
    "            heatpump = getNoLevyBill(HomeUse_ele,HomeUse_gas,type=\"heatpump_gascook\",SPF=SPF)\n",
    "            return gasboiler - heatpump\n",
    "        else:\n",
    "            heatpump = getNoLevyBill(HomeUse_ele,HomeUse_gas,type=\"heatpump\",SPF=SPF)\n",
    "            return gasboiler - heatpump\n",
    "        \n",
    "    if beforetype==\"E7\":\n",
    "        storageheater = getNoLevyBill(HomeUse_ele,HomeUse_gas,type=beforetype,perc_offpeak=perc_offpeak)\n",
    "        if gasStandingCharge==True:\n",
    "            heatpump = getNoLevyBill(HomeUse_ele,HomeUse_gas,type=\"heatpump_gascook\",SPF=SPF)\n",
    "            return storageheater - heatpump\n",
    "        else:\n",
    "            heatpump = getNoLevyBill(HomeUse_ele,HomeUse_gas,type=\"heatpump\",SPF=SPF)\n",
    "            return storageheater - heatpump\n",
    "    "
   ]
  },
  {
   "cell_type": "markdown",
   "metadata": {},
   "source": [
    "## 2. Remove VAT from electricity bills only and don't touch levy costs"
   ]
  },
  {
   "cell_type": "code",
   "execution_count": 106,
   "metadata": {},
   "outputs": [],
   "source": [
    "NoVAT_ele_unit_price = EST_ele_unit_price_GBP/1.05 #remove VAT\n",
    "NoVAT_gas_unit_price = EST_gas_unit_price_GBP\n",
    "\n",
    "NoVAT_E7_peak_price = EST_E7_on_unit_price_GBP/1.05 #remove VAT\n",
    "NoVAT_E7_off_price = EST_E7_off_unit_price_GBP/1.05 #remove VAT\n",
    "\n",
    "def getNoVATBill(HomeUse_ele,HomeUse_gas,type=\"gas\",perc_offpeak=0.9,SPF=2):\n",
    "    HeatDemand     = HomeUse_gas*EST_Gas_Boiler_Eff\n",
    "    if type==\"gas\":\n",
    "        return HomeUse_ele*NoVAT_ele_unit_price + EST_ele_standing_charge_GBP_yr + HomeUse_gas*NoVAT_gas_unit_price + EST_gas_standing_charge_GBP_yr\n",
    "    if type==\"E7\":\n",
    "        return (HomeUse_ele + (1-perc_offpeak)*HeatDemand)*NoVAT_E7_peak_price + perc_offpeak*HeatDemand*NoVAT_E7_off_price + EST_ele_standing_charge_GBP_yr\n",
    "    if type==\"heatpump\":\n",
    "        return (HomeUse_ele + HeatDemand/SPF)*NoVAT_ele_unit_price + EST_ele_standing_charge_GBP_yr\n",
    "    if type==\"heatpump_gascook\":\n",
    "        return (HomeUse_ele + HeatDemand/SPF)*NoVAT_ele_unit_price + EST_ele_standing_charge_GBP_yr + EST_gas_standing_charge_GBP_yr\n",
    "    else:\n",
    "        print(\"wrong type\")\n",
    "\n",
    "def scenario2saving(HomeUse_ele,HomeUse_gas,type=\"gas\",perc_offpeak=0.9,SPF=2):\n",
    "    saving = getBaselineBill(HomeUse_ele,HomeUse_gas,type=type,perc_offpeak=perc_offpeak,SPF=SPF) - getNoVATBill(HomeUse_ele,HomeUse_gas,type=type,perc_offpeak=perc_offpeak,SPF=SPF)\n",
    "    return saving\n",
    "def scenario2HPswitch(HomeUse_ele,HomeUse_gas,SPF,beforetype=\"gas\",gasStandingCharge=False,perc_offpeak=0.9):\n",
    "    if beforetype==\"gas\":\n",
    "        gasboiler = getNoVATBill(HomeUse_ele,HomeUse_gas,type=beforetype)\n",
    "        if gasStandingCharge==True:\n",
    "            heatpump = getNoVATBill(HomeUse_ele,HomeUse_gas,type=\"heatpump_gascook\",SPF=SPF)\n",
    "            return gasboiler - heatpump\n",
    "        else:\n",
    "            heatpump = getNoVATBill(HomeUse_ele,HomeUse_gas,type=\"heatpump\",SPF=SPF)\n",
    "            return gasboiler - heatpump\n",
    "        \n",
    "    if beforetype==\"E7\":\n",
    "        storageheater = getNoVATBill(HomeUse_ele,HomeUse_gas,type=beforetype,perc_offpeak=perc_offpeak)\n",
    "        if gasStandingCharge==True:\n",
    "            heatpump = getNoVATBill(HomeUse_ele,HomeUse_gas,type=\"heatpump_gascook\",SPF=SPF)\n",
    "            return storageheater - heatpump\n",
    "        else:\n",
    "            heatpump = getNoVATBill(HomeUse_ele,HomeUse_gas,type=\"heatpump\",SPF=SPF)\n",
    "            return storageheater - heatpump"
   ]
  },
  {
   "cell_type": "markdown",
   "metadata": {},
   "source": [
    "# 3. Introduce a clean heat discount \n",
    "- this option sees households with electric heating having the policy costs removed from the electricity used to heat their home. E3G has suggested the discounted electricity could be set at a defined amount, and their paper suggested 3.5 MWh. The costs are recovered through general taxation. "
   ]
  },
  {
   "cell_type": "code",
   "execution_count": 107,
   "metadata": {},
   "outputs": [],
   "source": [
    "def getCleanHeatBill(HomeUse_ele,HomeUse_gas,type=\"gas\",perc_offpeak=0.9,SPF=2,electricity_discount_kWh = 3500):\n",
    "    HeatDemand     = HomeUse_gas*EST_Gas_Boiler_Eff\n",
    "    if type==\"gas\":\n",
    "        return HomeUse_ele*EST_ele_unit_price_GBP + EST_ele_standing_charge_GBP_yr + HomeUse_gas*EST_gas_unit_price_GBP + EST_gas_standing_charge_GBP_yr\n",
    "    if type==\"E7\":\n",
    "        return (HomeUse_ele + (1-perc_offpeak)*HeatDemand)*EST_E7_on_unit_price_GBP + perc_offpeak*HeatDemand*EST_E7_off_unit_price_GBP + EST_ele_standing_charge_GBP_yr - electricity_discount_kWh*ele_levy_unit_rate_GBP_kWh_VATincl\n",
    "    if type==\"heatpump\":\n",
    "        return (HomeUse_ele + HeatDemand/SPF)*EST_ele_unit_price_GBP + EST_ele_standing_charge_GBP_yr- electricity_discount_kWh*ele_levy_unit_rate_GBP_kWh_VATincl\n",
    "    if type==\"heatpump_gascook\":\n",
    "        return (HomeUse_ele + HeatDemand/SPF)*EST_ele_unit_price_GBP + EST_ele_standing_charge_GBP_yr + EST_gas_standing_charge_GBP_yr- electricity_discount_kWh*ele_levy_unit_rate_GBP_kWh_VATincl\n",
    "    else:\n",
    "        print(\"wrong type\")\n",
    "\n",
    "def scenario3saving(HomeUse_ele,HomeUse_gas,type=\"gas\",perc_offpeak=0.9,SPF=2,electricity_discount_kWh = 3500):\n",
    "    saving = getBaselineBill(HomeUse_ele,HomeUse_gas,type=type,perc_offpeak=perc_offpeak,SPF=SPF) - getCleanHeatBill(HomeUse_ele,HomeUse_gas,type=type,perc_offpeak=perc_offpeak,SPF=SPF,electricity_discount_kWh=electricity_discount_kWh)\n",
    "    return saving\n",
    "def scenario3HPswitch(HomeUse_ele,HomeUse_gas,SPF,beforetype=\"gas\",gasStandingCharge=False,perc_offpeak=0.9,electricity_discount_kWh=3500):\n",
    "    if beforetype==\"gas\":\n",
    "        gasboiler = getCleanHeatBill(HomeUse_ele,HomeUse_gas,type=beforetype,electricity_discount_kWh=electricity_discount_kWh)\n",
    "        if gasStandingCharge==True:\n",
    "            heatpump = getCleanHeatBill(HomeUse_ele,HomeUse_gas,type=\"heatpump_gascook\",SPF=SPF,electricity_discount_kWh=electricity_discount_kWh)\n",
    "            return gasboiler - heatpump\n",
    "        else:\n",
    "            heatpump = getCleanHeatBill(HomeUse_ele,HomeUse_gas,type=\"heatpump\",SPF=SPF,electricity_discount_kWh=electricity_discount_kWh)\n",
    "            return gasboiler - heatpump\n",
    "        \n",
    "    if beforetype==\"E7\":\n",
    "        storageheater = getCleanHeatBill(HomeUse_ele,HomeUse_gas,type=beforetype,perc_offpeak=perc_offpeak,electricity_discount_kWh=electricity_discount_kWh)\n",
    "        if gasStandingCharge==True:\n",
    "            heatpump = getCleanHeatBill(HomeUse_ele,HomeUse_gas,type=\"heatpump_gascook\",SPF=SPF,electricity_discount_kWh=electricity_discount_kWh)\n",
    "            return storageheater - heatpump\n",
    "        else:\n",
    "            heatpump = getCleanHeatBill(HomeUse_ele,HomeUse_gas,type=\"heatpump\",SPF=SPF,electricity_discount_kWh=electricity_discount_kWh)\n",
    "            return storageheater - heatpump"
   ]
  },
  {
   "cell_type": "code",
   "execution_count": 125,
   "metadata": {},
   "outputs": [
    {
     "data": {
      "text/plain": [
       "'95.9%'"
      ]
     },
     "execution_count": 125,
     "metadata": {},
     "output_type": "execute_result"
    }
   ],
   "source": [
    "\n",
    "def spf_to_percentage(spf_input):\n",
    "    percentage =[0.969491525,0.959322034,0.928813559,0.898305085,0.837288136,0.766101695,0.691525424,0.589830508,0.491525424,0.389830508,0.308474576,0.233898305,0.166101695,0.13559322,0.091525424,0.06440678,0.033898305,0.030508475,0.020338983,0.010169492,0.003389831,0.003389831,0.003389831]\n",
    "    SPF = [2,2.1,2.2,2.3,2.4,2.5,2.6,2.7,2.8,2.9,3,3.1,3.2,3.3,3.4,3.5,3.6,3.7,3.8,3.9,4,4.1,4.2]\n",
    "    # Find the nearest SPF\n",
    "    nearest_spf = min(SPF, key=lambda x: abs(x - spf_input))\n",
    "    \n",
    "    # Find the index of the nearest SPF\n",
    "    index = SPF.index(nearest_spf)\n",
    "    \n",
    "    # Get the corresponding percentage and format it\n",
    "    percent_value = percentage[index] * 100  # Convert to percentage\n",
    "    formatted_percentage = f\"{percent_value:.1f}%\"\n",
    "    \n",
    "    return formatted_percentage"
   ]
  }
 ],
 "metadata": {
  "kernelspec": {
   "display_name": "portable",
   "language": "python",
   "name": "python3"
  },
  "language_info": {
   "codemirror_mode": {
    "name": "ipython",
    "version": 3
   },
   "file_extension": ".py",
   "mimetype": "text/x-python",
   "name": "python",
   "nbconvert_exporter": "python",
   "pygments_lexer": "ipython3",
   "version": "3.10.14"
  }
 },
 "nbformat": 4,
 "nbformat_minor": 2
}
